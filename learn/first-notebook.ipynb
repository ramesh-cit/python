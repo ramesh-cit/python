{
 "cells": [
  {
   "cell_type": "markdown",
   "id": "3303ecc2-20ea-408a-a3c4-2ab3c219aa52",
   "metadata": {},
   "source": [
    "### Who is the Supreme Lord?"
   ]
  },
  {
   "cell_type": "code",
   "execution_count": 5,
   "id": "6561cdad-86ad-4a70-9a0e-7f9bd684db47",
   "metadata": {},
   "outputs": [
    {
     "name": "stdout",
     "output_type": "stream",
     "text": [
      "Hare Krishna\n"
     ]
    }
   ],
   "source": [
    "print('Hare Krishna')"
   ]
  },
  {
   "cell_type": "code",
   "execution_count": 6,
   "id": "95f50454-5933-40fc-a57e-0a14871a318c",
   "metadata": {},
   "outputs": [
    {
     "data": {
      "text/plain": [
       "False"
      ]
     },
     "execution_count": 6,
     "metadata": {},
     "output_type": "execute_result"
    }
   ],
   "source": [
    "1==2"
   ]
  },
  {
   "cell_type": "code",
   "execution_count": 7,
   "id": "0b1d3bdb",
   "metadata": {},
   "outputs": [
    {
     "data": {
      "text/plain": [
       "str"
      ]
     },
     "execution_count": 7,
     "metadata": {},
     "output_type": "execute_result"
    }
   ],
   "source": [
    "name=\"Krishna\"\n",
    "type(name)"
   ]
  },
  {
   "cell_type": "code",
   "execution_count": 24,
   "id": "d412f287",
   "metadata": {},
   "outputs": [
    {
     "name": "stdout",
     "output_type": "stream",
     "text": [
      "[1, 2, 3]\n",
      "[True, 'Hello', 10.56, [1, 3, 3], 4]\n"
     ]
    },
    {
     "data": {
      "text/plain": [
       "5"
      ]
     },
     "execution_count": 24,
     "metadata": {},
     "output_type": "execute_result"
    }
   ],
   "source": [
    "my_list=[1,2,3]\n",
    "print(my_list)\n",
    "your_list=[True,'Hello', 10.56,[1,3,3]]\n",
    "your_list.append(4)\n",
    "print(your_list)\n",
    "len(your_list)"
   ]
  },
  {
   "cell_type": "code",
   "execution_count": 18,
   "id": "5731c6cf",
   "metadata": {},
   "outputs": [
    {
     "data": {
      "text/plain": [
       "5"
      ]
     },
     "execution_count": 18,
     "metadata": {},
     "output_type": "execute_result"
    }
   ],
   "source": [
    "my_set={1,2,3,2,4,5,4,5}\n",
    "len(my_set)\n",
    "#type(my_set)\n",
    "#print(my_set)"
   ]
  },
  {
   "cell_type": "code",
   "execution_count": 25,
   "id": "8693dd18",
   "metadata": {},
   "outputs": [
    {
     "name": "stdout",
     "output_type": "stream",
     "text": [
      "(1, 2, 3)\n"
     ]
    },
    {
     "ename": "AttributeError",
     "evalue": "'tuple' object has no attribute 'append'",
     "output_type": "error",
     "traceback": [
      "\u001b[1;31m---------------------------------------------------------------------------\u001b[0m",
      "\u001b[1;31mAttributeError\u001b[0m                            Traceback (most recent call last)",
      "Cell \u001b[1;32mIn[25], line 3\u001b[0m\n\u001b[0;32m      1\u001b[0m my_tuple\u001b[38;5;241m=\u001b[39m(\u001b[38;5;241m1\u001b[39m,\u001b[38;5;241m2\u001b[39m,\u001b[38;5;241m3\u001b[39m)\n\u001b[0;32m      2\u001b[0m \u001b[38;5;28mprint\u001b[39m(my_tuple)\n\u001b[1;32m----> 3\u001b[0m \u001b[43mmy_tuple\u001b[49m\u001b[38;5;241;43m.\u001b[39;49m\u001b[43mappend\u001b[49m(\u001b[38;5;241m4\u001b[39m)\n",
      "\u001b[1;31mAttributeError\u001b[0m: 'tuple' object has no attribute 'append'"
     ]
    }
   ],
   "source": [
    "my_tuple=(1,2,3)\n",
    "print(my_tuple)\n",
    "my_tuple.append(4)"
   ]
  },
  {
   "cell_type": "markdown",
   "id": "af79b6ae",
   "metadata": {},
   "source": [
    "Order Of Element"
   ]
  },
  {
   "cell_type": "code",
   "execution_count": 19,
   "id": "c0a47e07",
   "metadata": {},
   "outputs": [
    {
     "data": {
      "text/plain": [
       "False"
      ]
     },
     "execution_count": 19,
     "metadata": {},
     "output_type": "execute_result"
    }
   ],
   "source": [
    "[1,2]==[2,1]"
   ]
  },
  {
   "cell_type": "code",
   "execution_count": 20,
   "id": "85f33ce3",
   "metadata": {},
   "outputs": [
    {
     "data": {
      "text/plain": [
       "True"
      ]
     },
     "execution_count": 20,
     "metadata": {},
     "output_type": "execute_result"
    }
   ],
   "source": [
    "{1,2}=={2,1}"
   ]
  },
  {
   "cell_type": "code",
   "execution_count": 22,
   "id": "c501d441",
   "metadata": {},
   "outputs": [
    {
     "data": {
      "text/plain": [
       "False"
      ]
     },
     "execution_count": 22,
     "metadata": {},
     "output_type": "execute_result"
    }
   ],
   "source": [
    "(1,2)==(2,1)\n"
   ]
  },
  {
   "cell_type": "markdown",
   "id": "ca68b7d4",
   "metadata": {},
   "source": [
    "## Dictionary"
   ]
  },
  {
   "cell_type": "code",
   "execution_count": 27,
   "id": "6f697da2",
   "metadata": {},
   "outputs": [
    {
     "data": {
      "text/plain": [
       "'Krishna'"
      ]
     },
     "execution_count": 27,
     "metadata": {},
     "output_type": "execute_result"
    }
   ],
   "source": [
    "my_dictionary= {\n",
    "    \"name\":\"Krishna\",\n",
    "    \"age\":16,\n",
    "    'qualities':64\n",
    "}\n",
    "my_dictionary[\"name\"]"
   ]
  }
 ],
 "metadata": {
  "kernelspec": {
   "display_name": "Python 3",
   "language": "python",
   "name": "python3"
  },
  "language_info": {
   "codemirror_mode": {
    "name": "ipython",
    "version": 3
   },
   "file_extension": ".py",
   "mimetype": "text/x-python",
   "name": "python",
   "nbconvert_exporter": "python",
   "pygments_lexer": "ipython3",
   "version": "3.13.1"
  }
 },
 "nbformat": 4,
 "nbformat_minor": 5
}
